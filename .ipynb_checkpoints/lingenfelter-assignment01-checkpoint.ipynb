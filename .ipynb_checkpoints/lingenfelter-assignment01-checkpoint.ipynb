{
 "cells": [
  {
   "cell_type": "markdown",
   "metadata": {},
   "source": [
    "# Assignment 1\n",
    "\n",
    "## What is the code doing?\n",
    "\n",
    "This code is looking at the provided `rents.csv` dataset. First we read the data set and rename the columns that we're going to be referencing a lot to more descriptive titles. Then we replaced all the `NA` values with 0s. Then we cleaned up the columns that had non numeric characters in their strings so that we could coerce them to floats. After we had coerced the data to floats, we performed summary stats the columns we were inquiring about.\n",
    "\n",
    "Then we made a subset of the data that included all properties with rents between 1000 and 4000, excluding those with missing values for either number of bedrooms or total square footage. We then performed the same summary stats on this subset. \n",
    "\n",
    "## My Development Process\n",
    "\n",
    "Cleaning and subsetting the data was fairly straightforward. It was more challenging to develop a function to get the summary statistics for each column. This required me to read some documentation on the `apply` method for pd.arrays. Once I was able to figure out how to use apply to apply a function to all the columns I wanted at once, I was able to use this for all instances where I was initially writing 3 very similar lines of code. Once I figured out how to make a dataframe to hold my summary statistics, and how to fill it with the correct values, I was able to abstract this to a function `summary_stats`."
   ]
  },
  {
   "cell_type": "code",
   "execution_count": 1,
   "metadata": {},
   "outputs": [],
   "source": [
    "# import necessary packages\n",
    "import numpy as np\n",
    "import pandas as pd"
   ]
  },
  {
   "cell_type": "code",
   "execution_count": 2,
   "metadata": {},
   "outputs": [
    {
     "data": {
      "text/html": [
       "<div>\n",
       "<style scoped>\n",
       "    .dataframe tbody tr th:only-of-type {\n",
       "        vertical-align: middle;\n",
       "    }\n",
       "\n",
       "    .dataframe tbody tr th {\n",
       "        vertical-align: top;\n",
       "    }\n",
       "\n",
       "    .dataframe thead th {\n",
       "        text-align: right;\n",
       "    }\n",
       "</style>\n",
       "<table border=\"1\" class=\"dataframe\">\n",
       "  <thead>\n",
       "    <tr style=\"text-align: right;\">\n",
       "      <th></th>\n",
       "      <th>city</th>\n",
       "      <th>rent</th>\n",
       "      <th>br</th>\n",
       "      <th>sqft</th>\n",
       "    </tr>\n",
       "  </thead>\n",
       "  <tbody>\n",
       "    <tr>\n",
       "      <th>0</th>\n",
       "      <td>Boston</td>\n",
       "      <td>$675.00</td>\n",
       "      <td>1.0</td>\n",
       "      <td>560 ft2</td>\n",
       "    </tr>\n",
       "    <tr>\n",
       "      <th>1</th>\n",
       "      <td>Boston</td>\n",
       "      <td>$772.00</td>\n",
       "      <td>1.0</td>\n",
       "      <td>608 ft2</td>\n",
       "    </tr>\n",
       "    <tr>\n",
       "      <th>2</th>\n",
       "      <td>Boston</td>\n",
       "      <td>$789.00</td>\n",
       "      <td>1.0</td>\n",
       "      <td>618 ft2</td>\n",
       "    </tr>\n",
       "    <tr>\n",
       "      <th>3</th>\n",
       "      <td>Boston</td>\n",
       "      <td>$795.00</td>\n",
       "      <td>1.0</td>\n",
       "      <td>622 ft2</td>\n",
       "    </tr>\n",
       "    <tr>\n",
       "      <th>4</th>\n",
       "      <td>Boston</td>\n",
       "      <td>$800.00</td>\n",
       "      <td>1.0</td>\n",
       "      <td>629 ft2</td>\n",
       "    </tr>\n",
       "  </tbody>\n",
       "</table>\n",
       "</div>"
      ],
      "text/plain": [
       "     city     rent   br      sqft\n",
       "0  Boston  $675.00  1.0   560 ft2\n",
       "1  Boston  $772.00  1.0   608 ft2\n",
       "2  Boston  $789.00  1.0   618 ft2\n",
       "3  Boston  $795.00  1.0   622 ft2\n",
       "4  Boston  $800.00  1.0   629 ft2"
      ]
     },
     "execution_count": 2,
     "metadata": {},
     "output_type": "execute_result"
    }
   ],
   "source": [
    "# import csv\n",
    "rents = pd.read_csv('assignment-01/rents.csv') # path relative to notebook file\n",
    "\n",
    "# take a look at this csv \n",
    "rents.head()"
   ]
  },
  {
   "cell_type": "code",
   "execution_count": 3,
   "metadata": {},
   "outputs": [],
   "source": [
    "# rename the columns\n",
    "rents = rents.rename(columns={'rent':'rent_dollars', 'br':'no_bedrooms', 'sqft':'squarefeet'})\n",
    "\n",
    "# made an array of column names that will be referenced multiple times\n",
    "key_cols = ['rent_dollars', 'no_bedrooms', 'squarefeet']"
   ]
  },
  {
   "cell_type": "code",
   "execution_count": 4,
   "metadata": {},
   "outputs": [],
   "source": [
    "# fill NA values with 0s across all key columns\n",
    "rents[key_cols] = rents[key_cols].apply(lambda d: d.fillna(0))"
   ]
  },
  {
   "cell_type": "code",
   "execution_count": 5,
   "metadata": {},
   "outputs": [],
   "source": [
    "# clean up the rent column so that there are no longer dollar signs\n",
    "rents['rent_dollars'] = rents['rent_dollars'].str.replace('$', '').str.strip()"
   ]
  },
  {
   "cell_type": "code",
   "execution_count": 6,
   "metadata": {},
   "outputs": [],
   "source": [
    "# clean up the square feet column so there is no longer the unit reference\n",
    "rents['squarefeet'] = rents['squarefeet'].str.replace(\" ft2\", '').str.strip()"
   ]
  },
  {
   "cell_type": "code",
   "execution_count": 7,
   "metadata": {},
   "outputs": [],
   "source": [
    "# change type of all key columns to float\n",
    "rents[key_cols] = rents[key_cols].apply(lambda d: d.astype(float))"
   ]
  },
  {
   "cell_type": "code",
   "execution_count": 8,
   "metadata": {},
   "outputs": [
    {
     "data": {
      "text/html": [
       "<div>\n",
       "<style scoped>\n",
       "    .dataframe tbody tr th:only-of-type {\n",
       "        vertical-align: middle;\n",
       "    }\n",
       "\n",
       "    .dataframe tbody tr th {\n",
       "        vertical-align: top;\n",
       "    }\n",
       "\n",
       "    .dataframe thead th {\n",
       "        text-align: right;\n",
       "    }\n",
       "</style>\n",
       "<table border=\"1\" class=\"dataframe\">\n",
       "  <thead>\n",
       "    <tr style=\"text-align: right;\">\n",
       "      <th></th>\n",
       "      <th>mean</th>\n",
       "      <th>min</th>\n",
       "      <th>max</th>\n",
       "    </tr>\n",
       "  </thead>\n",
       "  <tbody>\n",
       "    <tr>\n",
       "      <th>rent_dollars</th>\n",
       "      <td>3364.09400</td>\n",
       "      <td>675.0</td>\n",
       "      <td>11510.0</td>\n",
       "    </tr>\n",
       "    <tr>\n",
       "      <th>no_bedrooms</th>\n",
       "      <td>2.45800</td>\n",
       "      <td>0.0</td>\n",
       "      <td>4.0</td>\n",
       "    </tr>\n",
       "    <tr>\n",
       "      <th>squarefeet</th>\n",
       "      <td>1213.11066</td>\n",
       "      <td>560.0</td>\n",
       "      <td>1893.0</td>\n",
       "    </tr>\n",
       "  </tbody>\n",
       "</table>\n",
       "</div>"
      ],
      "text/plain": [
       "                    mean    min      max\n",
       "rent_dollars  3364.09400  675.0  11510.0\n",
       "no_bedrooms      2.45800    0.0      4.0\n",
       "squarefeet    1213.11066  560.0   1893.0"
      ]
     },
     "execution_count": 8,
     "metadata": {},
     "output_type": "execute_result"
    }
   ],
   "source": [
    "# write a function to calculate stats for given data frame and given columns\n",
    "# Dataframe, Iterable [column names] -> Dataframe\n",
    "def summary_stats(df, keys):\n",
    "    # create iterable of column names\n",
    "    columns = [\"mean\", \"min\", \"max\"]\n",
    "\n",
    "    # create empty data frame to hold stats about each column\n",
    "    stats = pd.DataFrame(index=keys, columns=columns)\n",
    "\n",
    "    # fill stats column with corresponding statistic about given column from rents\n",
    "    stats[\"mean\"] = df[keys].apply(lambda c: c.mean())\n",
    "    stats[\"min\"] = df[keys].apply(lambda c: c.min())\n",
    "    stats[\"max\"] = df[keys].apply(lambda c: c.max())\n",
    "\n",
    "    return stats\n",
    "\n",
    "\n",
    "\n",
    "# print this out to look at \n",
    "stats = summary_stats(rents, key_cols)\n",
    "stats"
   ]
  },
  {
   "cell_type": "code",
   "execution_count": 9,
   "metadata": {},
   "outputs": [],
   "source": [
    "# create subset that contains rents between 1000 and 4000 \n",
    "# as long as they have valid values for number of bedrooms and square footage\n",
    "subset = rents[(rents['rent_dollars'] >= 1000) & (rents['rent_dollars'] <= 4000) \n",
    "      & (rents['squarefeet'] > 0) & (rents['no_bedrooms'] > 0)]"
   ]
  },
  {
   "cell_type": "code",
   "execution_count": 10,
   "metadata": {},
   "outputs": [
    {
     "data": {
      "text/html": [
       "<div>\n",
       "<style scoped>\n",
       "    .dataframe tbody tr th:only-of-type {\n",
       "        vertical-align: middle;\n",
       "    }\n",
       "\n",
       "    .dataframe tbody tr th {\n",
       "        vertical-align: top;\n",
       "    }\n",
       "\n",
       "    .dataframe thead th {\n",
       "        text-align: right;\n",
       "    }\n",
       "</style>\n",
       "<table border=\"1\" class=\"dataframe\">\n",
       "  <thead>\n",
       "    <tr style=\"text-align: right;\">\n",
       "      <th></th>\n",
       "      <th>mean</th>\n",
       "      <th>min</th>\n",
       "      <th>max</th>\n",
       "    </tr>\n",
       "  </thead>\n",
       "  <tbody>\n",
       "    <tr>\n",
       "      <th>rent_dollars</th>\n",
       "      <td>2538.721649</td>\n",
       "      <td>1012.0</td>\n",
       "      <td>3995.0</td>\n",
       "    </tr>\n",
       "    <tr>\n",
       "      <th>no_bedrooms</th>\n",
       "      <td>1.977909</td>\n",
       "      <td>1.0</td>\n",
       "      <td>3.0</td>\n",
       "    </tr>\n",
       "    <tr>\n",
       "      <th>squarefeet</th>\n",
       "      <td>1117.718704</td>\n",
       "      <td>724.0</td>\n",
       "      <td>1337.0</td>\n",
       "    </tr>\n",
       "  </tbody>\n",
       "</table>\n",
       "</div>"
      ],
      "text/plain": [
       "                     mean     min     max\n",
       "rent_dollars  2538.721649  1012.0  3995.0\n",
       "no_bedrooms      1.977909     1.0     3.0\n",
       "squarefeet    1117.718704   724.0  1337.0"
      ]
     },
     "execution_count": 10,
     "metadata": {},
     "output_type": "execute_result"
    }
   ],
   "source": [
    "# create empty data frame to hold stats about subset\n",
    "subset_stats = summary_stats(subset, key_cols)\n",
    "subset_stats"
   ]
  }
 ],
 "metadata": {
  "kernelspec": {
   "display_name": "Python 3",
   "language": "python",
   "name": "python3"
  },
  "language_info": {
   "codemirror_mode": {
    "name": "ipython",
    "version": 3
   },
   "file_extension": ".py",
   "mimetype": "text/x-python",
   "name": "python",
   "nbconvert_exporter": "python",
   "pygments_lexer": "ipython3",
   "version": "3.7.1"
  }
 },
 "nbformat": 4,
 "nbformat_minor": 2
}
