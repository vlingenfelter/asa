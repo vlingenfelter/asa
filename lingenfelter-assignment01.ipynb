{
 "cells": [
  {
   "cell_type": "code",
   "execution_count": 11,
   "metadata": {},
   "outputs": [],
   "source": [
    "# import necessary packages\n",
    "import numpy as np\n",
    "import pandas as pd"
   ]
  },
  {
   "cell_type": "code",
   "execution_count": 12,
   "metadata": {},
   "outputs": [
    {
     "data": {
      "text/html": [
       "<div>\n",
       "<style scoped>\n",
       "    .dataframe tbody tr th:only-of-type {\n",
       "        vertical-align: middle;\n",
       "    }\n",
       "\n",
       "    .dataframe tbody tr th {\n",
       "        vertical-align: top;\n",
       "    }\n",
       "\n",
       "    .dataframe thead th {\n",
       "        text-align: right;\n",
       "    }\n",
       "</style>\n",
       "<table border=\"1\" class=\"dataframe\">\n",
       "  <thead>\n",
       "    <tr style=\"text-align: right;\">\n",
       "      <th></th>\n",
       "      <th>city</th>\n",
       "      <th>rent</th>\n",
       "      <th>br</th>\n",
       "      <th>sqft</th>\n",
       "    </tr>\n",
       "  </thead>\n",
       "  <tbody>\n",
       "    <tr>\n",
       "      <th>0</th>\n",
       "      <td>Boston</td>\n",
       "      <td>$675.00</td>\n",
       "      <td>1.0</td>\n",
       "      <td>560 ft2</td>\n",
       "    </tr>\n",
       "    <tr>\n",
       "      <th>1</th>\n",
       "      <td>Boston</td>\n",
       "      <td>$772.00</td>\n",
       "      <td>1.0</td>\n",
       "      <td>608 ft2</td>\n",
       "    </tr>\n",
       "    <tr>\n",
       "      <th>2</th>\n",
       "      <td>Boston</td>\n",
       "      <td>$789.00</td>\n",
       "      <td>1.0</td>\n",
       "      <td>618 ft2</td>\n",
       "    </tr>\n",
       "    <tr>\n",
       "      <th>3</th>\n",
       "      <td>Boston</td>\n",
       "      <td>$795.00</td>\n",
       "      <td>1.0</td>\n",
       "      <td>622 ft2</td>\n",
       "    </tr>\n",
       "    <tr>\n",
       "      <th>4</th>\n",
       "      <td>Boston</td>\n",
       "      <td>$800.00</td>\n",
       "      <td>1.0</td>\n",
       "      <td>629 ft2</td>\n",
       "    </tr>\n",
       "  </tbody>\n",
       "</table>\n",
       "</div>"
      ],
      "text/plain": [
       "     city     rent   br      sqft\n",
       "0  Boston  $675.00  1.0   560 ft2\n",
       "1  Boston  $772.00  1.0   608 ft2\n",
       "2  Boston  $789.00  1.0   618 ft2\n",
       "3  Boston  $795.00  1.0   622 ft2\n",
       "4  Boston  $800.00  1.0   629 ft2"
      ]
     },
     "execution_count": 12,
     "metadata": {},
     "output_type": "execute_result"
    }
   ],
   "source": [
    "# import csv\n",
    "rents = pd.read_csv('assignment-01/rents.csv') # path relative to notebook file\n",
    "rents.head()"
   ]
  },
  {
   "cell_type": "code",
   "execution_count": 13,
   "metadata": {},
   "outputs": [],
   "source": [
    "# rename the columns\n",
    "rents = rents.rename(columns={'rent':'rent_dollars', 'br':'no_bedrooms', 'sqft':'squarefeet'})\n",
    "\n",
    "# made an array of column names that will be referenced multiple times\n",
    "key_cols = ['rent_dollars', 'no_bedrooms', 'squarefeet']"
   ]
  },
  {
   "cell_type": "code",
   "execution_count": 14,
   "metadata": {},
   "outputs": [],
   "source": [
    "# fill NA values with 0s across all key columns\n",
    "rents[key_cols] = rents[key_cols].apply(lambda d: d.fillna(0))"
   ]
  },
  {
   "cell_type": "code",
   "execution_count": 16,
   "metadata": {},
   "outputs": [],
   "source": [
    "# clean up the rent column so that there are no longer dollar signs\n",
    "rents['rent_dollars'] = rents['rent_dollars'].str.replace('$', '').str.strip()"
   ]
  },
  {
   "cell_type": "code",
   "execution_count": 16,
   "metadata": {},
   "outputs": [],
   "source": [
    "# clean up the square feet column so there is no longer the unit reference\n",
    "rents['squarefeet'] = rents['squarefeet'].str.replace(\" ft2\", '').str.strip()"
   ]
  },
  {
   "cell_type": "code",
   "execution_count": 16,
   "metadata": {},
   "outputs": [],
   "source": [
    "# change type of all key columns to float\n",
    "rents[key_cols] = rents[key_cols].apply(lambda d: d.astype(float))"
   ]
  },
  {
   "cell_type": "code",
   "execution_count": 34,
   "metadata": {},
   "outputs": [],
   "source": []
  }
 ],
 "metadata": {
  "kernelspec": {
   "display_name": "Python 3",
   "language": "python",
   "name": "python3"
  },
  "language_info": {
   "codemirror_mode": {
    "name": "ipython",
    "version": 3
   },
   "file_extension": ".py",
   "mimetype": "text/x-python",
   "name": "python",
   "nbconvert_exporter": "python",
   "pygments_lexer": "ipython3",
   "version": "3.7.1"
  }
 },
 "nbformat": 4,
 "nbformat_minor": 2
}
