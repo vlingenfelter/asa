{
 "cells": [
  {
   "cell_type": "markdown",
   "metadata": {},
   "source": [
    "# Assignment 0\n",
    "\n",
    "## What is the code doing?\n",
    "\n",
    "The first thing we must do is construct `is_prime()`, which will check to see if given integer `n` is a prime number. In order to check to see if a given number is prime, we must first make sure that it is positive and greater than 1. Then we need to see if the number is divisible by anything other than 1 and itself. If we know that the given number is divisible by a number other than 1 and itself, we can be certain it is not a prime without checking any more potential factors. \n",
    "\n",
    "Next we will make a function `list_primes()` that will print all the primes between 0 and given integer `n` (inclusive) with a space between them. To do this, we will have to check each number between 0 and `n` to see if it is prime and then add it to a string that will be printed once the function is done iterating. We can make use of `is_prime()` to check if each number is prime. \n",
    "\n",
    "Next we will make a function `count_primes()` that will return an integer that is the number of primes between 0 and given integer `n`. This will be implemented very similarly to `list_primes()`. We will need an accumulator to keep track of how many primes we see when we iterate through each number between 0 and `n`. This accumulator can be returned at the end of the function. We can set up a condition where if a number is prime, the accumulator gets 1 added to it. \n",
    "\n",
    "The final function we will create is `first_primes()`. This will return a list of the first `n` primes that occur in natural counting order. To implement this function, we will have to iterate through every number and check if it is prime. If the number is prime, we will add it to our list. Once our list is the same length as `n`, we can stop iterating and return our list. \n",
    "\n",
    "\n",
    "## My Development Process\n",
    "\n",
    "Whenever I begin developing anything, I start by writing my signature and purpose statement: what will I need, what will I output, and what will happen in between? After that, I write out my test cases. Once I can come up with the logic to implement these test cases, I can generalize this into a function. This assignment is also set up perfectly to implement incremental development. The first function we construct is `is_prime()`, a checker to see if a given number is prime. Once this function works, we can use implement it within the rest of our functions. This allows us to start small and build upwards. "
   ]
  },
  {
   "cell_type": "code",
   "execution_count": 5,
   "metadata": {},
   "outputs": [
    {
     "name": "stdout",
     "output_type": "stream",
     "text": [
      "True\n"
     ]
    }
   ],
   "source": [
    "# is_prime(n): Int -> Boolean\n",
    "# returns if given Integer n is prime\n",
    "def is_prime(n):\n",
    "    # check to make sure that a negative value was not passed\n",
    "    # and filter for 0 (not a prime)\n",
    "    if n <= 1:\n",
    "        return False\n",
    "    # iterate through potential factors of n\n",
    "    # checking to see if n is divisible by each factor\n",
    "    for i in range(2, int(n)):\n",
    "        if n%i == 0:\n",
    "            return False\n",
    "    # return accumulated boolean \n",
    "    return True\n",
    "\n",
    "# check our function with some tests\n",
    "# if our function works this should return \"True\"\n",
    "print((is_prime(13) == True) \n",
    "      & (is_prime(2) == True) \n",
    "      & (is_prime(14) == False) \n",
    "      & (is_prime(1) == False) \n",
    "      & (is_prime(0) == False) \n",
    "      & (is_prime(-3) == False))"
   ]
  },
  {
   "cell_type": "code",
   "execution_count": 6,
   "metadata": {},
   "outputs": [
    {
     "name": "stdout",
     "output_type": "stream",
     "text": [
      "\n",
      " 2\n",
      " 2 3 5 7 11 13\n"
     ]
    }
   ],
   "source": [
    "# print_primes(n): Int -> String\n",
    "# prints string of all prime natural numbers counted before n \n",
    "def print_primes(n):\n",
    "    # initialize empty string\n",
    "    printString = \"\"\n",
    "    # add each prime to empty string\n",
    "    for i in range(n+1):\n",
    "        if is_prime(i):\n",
    "            printString = printString + ' ' + str(i)\n",
    "    # print this string\n",
    "    print(printString)\n",
    "    \n",
    "# examples    \n",
    "print_primes(1) # should print an empty string\n",
    "print_primes(2) # should print \"2\"\n",
    "print_primes(13) # should print \"2 3 5 7 11 13\""
   ]
  },
  {
   "cell_type": "code",
   "execution_count": 7,
   "metadata": {},
   "outputs": [
    {
     "name": "stdout",
     "output_type": "stream",
     "text": [
      "True\n"
     ]
    }
   ],
   "source": [
    "# count_primes(n): Int -> Int\n",
    "# count how many primes until n \n",
    "def count_primes(n):\n",
    "    # initialize accumulator\n",
    "    acc = 0\n",
    "    # add each prime to accumulator\n",
    "    for i in range(n+1):\n",
    "        if is_prime(i):\n",
    "            acc += 1\n",
    "    # return accumulated value\n",
    "    return acc\n",
    "    \n",
    "# tests\n",
    "print((count_primes(19) == 8) \n",
    "      & (count_primes(0) == 0) \n",
    "      & (count_primes(3) == 2))"
   ]
  },
  {
   "cell_type": "code",
   "execution_count": 8,
   "metadata": {},
   "outputs": [
    {
     "name": "stdout",
     "output_type": "stream",
     "text": [
      "True\n"
     ]
    }
   ],
   "source": [
    "# first_primes(n): Int -> List\n",
    "# return list containing first n amount of prime numbers\n",
    "def first_primes(n):\n",
    "    primes = []\n",
    "    x = 2\n",
    "    while len(primes) < n:\n",
    "        if is_prime(x):\n",
    "            primes.append(x)\n",
    "        x += 1\n",
    "    return primes\n",
    "\n",
    "# tests\n",
    "print((first_primes(3) == [2, 3, 5]) \n",
    "      & (first_primes(1) == [2]) \n",
    "      & (first_primes(5) == [2, 3, 5, 7, 11]))"
   ]
  }
 ],
 "metadata": {
  "kernelspec": {
   "display_name": "Python 3",
   "language": "python",
   "name": "python3"
  },
  "language_info": {
   "codemirror_mode": {
    "name": "ipython",
    "version": 3
   },
   "file_extension": ".py",
   "mimetype": "text/x-python",
   "name": "python",
   "nbconvert_exporter": "python",
   "pygments_lexer": "ipython3",
   "version": "3.7.1"
  }
 },
 "nbformat": 4,
 "nbformat_minor": 2
}
