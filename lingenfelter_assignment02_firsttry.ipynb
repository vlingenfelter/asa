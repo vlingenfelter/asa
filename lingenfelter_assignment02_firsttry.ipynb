{
 "cells": [
  {
   "cell_type": "markdown",
   "metadata": {},
   "source": [
    "# Assignment 03\n",
    "\n",
    "## 311 Cases in San Francisco\n",
    "\n",
    "For this assignment, I chose to look at two call types that relate to homelessness in San Francisco's open source 311 dataset. Recently there has been lots of news coverage about an increaste in human waste on the streets of San Francisco. The New York Times released an [article](https://www.nytimes.com/2018/10/08/us/san-francisco-dirtiest-street-london-breed.html) on the issue in October, 2018.\n",
    "\n",
    "***NOTE***: I was unable to use the full dataset because it would only load with pandas sometimes. I am not sure why this is. I tried using chunksize to iterate through smaller dataframes in order to do operations in memory, but it wasn't working. "
   ]
  },
  {
   "cell_type": "code",
   "execution_count": null,
   "metadata": {},
   "outputs": [],
   "source": [
    "import matplotlib.cm as cm\n",
    "import matplotlib.font_manager as fm\n",
    "import matplotlib.pyplot as plt\n",
    "import numpy as np\n",
    "import pandas as pd\n",
    "\n",
    "\n",
    "%matplotlib notebook "
   ]
  },
  {
   "cell_type": "code",
   "execution_count": null,
   "metadata": {},
   "outputs": [],
   "source": [
    "# read our data set -- all 311 calls in available for San Francisco \n",
    "# this dataset is M A S S I V E (bigger than 1gb)\n",
    "# my computer is T I N Y and W E A K\n",
    "\n",
    "chunksize = 10 ** 6\n",
    "fields = ['Opened', 'Request Type']\n",
    "# iterator for our chunks\n",
    "tp = pd.read_csv('311_Cases.csv', usecols=fields, index_col=\"Opened\", parse_dates=True,\n",
    "                 dtype={'Request Type': str})"
   ]
  },
  {
   "cell_type": "code",
   "execution_count": null,
   "metadata": {},
   "outputs": [],
   "source": [
    "chunk_list = []  # append each chunk df here \n",
    "\n",
    "# Each chunk is in df format\n",
    "for df in tp:  \n",
    "    # perform data filtering \n",
    "    chunk_filter = df[(df['Request Type'] == 'Human Waste')]\n",
    "    \n",
    "    # Once the data filtering is done, append the chunk to list\n",
    "    chunk_list.append(chunk_filter)\n",
    "    \n",
    "# concat the list into dataframe \n",
    "# req_types = pd.concat(chunk_list)"
   ]
  },
  {
   "cell_type": "code",
   "execution_count": null,
   "metadata": {},
   "outputs": [],
   "source": [
    "chunk_list[0]"
   ]
  },
  {
   "cell_type": "code",
   "execution_count": null,
   "metadata": {},
   "outputs": [],
   "source": [
    "# find the most commonly occuring requests\n",
    "# we're looking for ones incidental to homelessness \n",
    "# req_type = df['Request Type'].value_counts()\n"
   ]
  },
  {
   "cell_type": "code",
   "execution_count": null,
   "metadata": {},
   "outputs": [],
   "source": [
    "# generate easier to read labels\n",
    "req_type_xlab = ['Bulky Items', 'General Cleaning', 'Encampment Reports', \n",
    "                 'Request for Service', 'Human Waste', 'Graffiti on Pole', \n",
    "                 'Graffiti on Commercial Building', 'Damaged Parking Meter', \n",
    "                 'Abandoned 4 Door Car', 'Pavement Defect']\n",
    "# color the columns so that calls relating to homelessness are more noticeable \n",
    "req_type_colors = ['grey', 'grey', '#1fa898', 'grey', 'orange', 'grey', 'grey', 'grey', 'grey', 'grey']\n",
    "req_type_alpha = [0.5, 0.5, 1, 0.5, 1, 0.5, 0.5, 0.5, 0.5]\n",
    "\n",
    "# style the plot to make it look nicer\n",
    "ax = req_type.head(10).plot(kind='bar', figsize=(8, 6), width=0.75, alpha=1, \n",
    "                 color=req_type_colors, edgecolor='white', zorder=2)\n",
    "\n",
    "ax.yaxis.grid(True, ls=':')\n",
    "ax.set_xticklabels(req_type_xlab, rotation=45, rotation_mode='anchor', ha='right')\n",
    "\n",
    "ax.set_title('15 Most Common Request Types')\n",
    "ax.set_ylabel('Number of calls')\n",
    "ax.set_xlabel('Request Type')\n",
    "plt.show()"
   ]
  },
  {
   "cell_type": "markdown",
   "metadata": {},
   "source": [
    "## Most common call types\n",
    "\n",
    "It is worth looking at the most common call types to see where the two request types that we will be looking at (human waste and encampments) line up. This can help us get an idea of how many of these calls are coming in relative to the total amount of calls coming in. "
   ]
  },
  {
   "cell_type": "code",
   "execution_count": null,
   "metadata": {},
   "outputs": [],
   "source": [
    "human_waste = df[(df['Request Type'] == 'Human Waste')]"
   ]
  },
  {
   "cell_type": "code",
   "execution_count": null,
   "metadata": {},
   "outputs": [],
   "source": [
    "encampments = df[(df['Request Type'] == 'Encampment Reports')]"
   ]
  },
  {
   "cell_type": "code",
   "execution_count": null,
   "metadata": {},
   "outputs": [],
   "source": [
    "hw_yearly = human_waste.groupby(human_waste.index.year).size()\n",
    "enc_yearly = encampments.groupby(encampments.index.year).size()\n",
    "calls_yearly = df.groupby(df.index.year).size()\n",
    "prop_hw_yearly = (hw_yearly / calls_yearly) * 100\n",
    "prop_enc_yearly = (enc_yearly / calls_yearly) * 100\n",
    "\n",
    "ax = prop_hw_yearly.plot(kind='line', figsize=(10, 6), lw=2, c='#1fa898',\n",
    "                    marker='^', markerfacecolor='w', markeredgewidth=1.5,\n",
    "                        label='Percentage regarding human waste', markersize=12)\n",
    "ax = prop_enc_yearly.plot(kind='line', figsize=(10, 6), lw=2, c='orange',\n",
    "                    marker='o', markerfacecolor='w', markeredgewidth=1.5, \n",
    "                          label='Percentage regarding encampments')\n",
    "\n",
    "ax.set_xlabel('Percentage of Total Calls about Human Waste, by Year')\n",
    "ax.set_xlim(2007.9,2018.1)\n",
    "ax.set_ylabel('Year')\n",
    "ax.set_title('Percent Calls about Human Waste')\n",
    "\n",
    "ax.grid(ls=':')\n",
    "ax.legend()\n",
    "plt.show()"
   ]
  },
  {
   "cell_type": "code",
   "execution_count": null,
   "metadata": {},
   "outputs": [],
   "source": [
    "share = pd.DataFrame([prop_hw_yearly, prop_enc_yearly], index=['human waste', 'encampments']).T"
   ]
  },
  {
   "cell_type": "code",
   "execution_count": null,
   "metadata": {},
   "outputs": [],
   "source": [
    "ax = share.plot(figsize=(10, 6), kind='bar', alpha=0.7, stacked=True, \n",
    "                       title='Share of calls related to homelessness, by year')\n",
    "ax.set_xticklabels(share.index, rotation=45, rotation_mode='anchor', ha='right')\n",
    "plt.show()"
   ]
  },
  {
   "cell_type": "code",
   "execution_count": null,
   "metadata": {},
   "outputs": [],
   "source": []
  }
 ],
 "metadata": {
  "kernelspec": {
   "display_name": "Python 3",
   "language": "python",
   "name": "python3"
  },
  "language_info": {
   "codemirror_mode": {
    "name": "ipython",
    "version": 3
   },
   "file_extension": ".py",
   "mimetype": "text/x-python",
   "name": "python",
   "nbconvert_exporter": "python",
   "pygments_lexer": "ipython3",
   "version": "3.7.2"
  }
 },
 "nbformat": 4,
 "nbformat_minor": 2
}
